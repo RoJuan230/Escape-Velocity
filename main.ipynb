{
 "cells": [
  {
   "cell_type": "markdown",
   "metadata": {},
   "source": [
    "Equation:</br></br>\n",
    "$v_e$ = $\\sqrt{\\dfrac{2GM}{r}}$"
   ]
  },
  {
   "cell_type": "code",
   "execution_count": 9,
   "metadata": {},
   "outputs": [
    {
     "data": {
      "text/html": [
       "<div>\n",
       "<style scoped>\n",
       "    .dataframe tbody tr th:only-of-type {\n",
       "        vertical-align: middle;\n",
       "    }\n",
       "\n",
       "    .dataframe tbody tr th {\n",
       "        vertical-align: top;\n",
       "    }\n",
       "\n",
       "    .dataframe thead th {\n",
       "        text-align: right;\n",
       "    }\n",
       "</style>\n",
       "<table border=\"1\" class=\"dataframe\">\n",
       "  <thead>\n",
       "    <tr style=\"text-align: right;\">\n",
       "      <th></th>\n",
       "      <th>Planet</th>\n",
       "      <th>Mass</th>\n",
       "      <th>Radius</th>\n",
       "    </tr>\n",
       "  </thead>\n",
       "  <tbody>\n",
       "    <tr>\n",
       "      <th>0</th>\n",
       "      <td>Mercury</td>\n",
       "      <td>0.0558</td>\n",
       "      <td>0.383</td>\n",
       "    </tr>\n",
       "    <tr>\n",
       "      <th>1</th>\n",
       "      <td>Venus</td>\n",
       "      <td>0.8150</td>\n",
       "      <td>0.950</td>\n",
       "    </tr>\n",
       "    <tr>\n",
       "      <th>2</th>\n",
       "      <td>Earth</td>\n",
       "      <td>1.0000</td>\n",
       "      <td>1.000</td>\n",
       "    </tr>\n",
       "    <tr>\n",
       "      <th>3</th>\n",
       "      <td>Mars</td>\n",
       "      <td>0.1070</td>\n",
       "      <td>0.532</td>\n",
       "    </tr>\n",
       "    <tr>\n",
       "      <th>4</th>\n",
       "      <td>Jupiter</td>\n",
       "      <td>318.0000</td>\n",
       "      <td>11.200</td>\n",
       "    </tr>\n",
       "    <tr>\n",
       "      <th>5</th>\n",
       "      <td>Saturn</td>\n",
       "      <td>95.1000</td>\n",
       "      <td>9.410</td>\n",
       "    </tr>\n",
       "    <tr>\n",
       "      <th>6</th>\n",
       "      <td>Uranus</td>\n",
       "      <td>14.5000</td>\n",
       "      <td>4.060</td>\n",
       "    </tr>\n",
       "    <tr>\n",
       "      <th>7</th>\n",
       "      <td>Neptune</td>\n",
       "      <td>17.2000</td>\n",
       "      <td>3.880</td>\n",
       "    </tr>\n",
       "  </tbody>\n",
       "</table>\n",
       "</div>"
      ],
      "text/plain": [
       "    Planet      Mass  Radius\n",
       "0  Mercury    0.0558   0.383\n",
       "1    Venus    0.8150   0.950\n",
       "2    Earth    1.0000   1.000\n",
       "3     Mars    0.1070   0.532\n",
       "4  Jupiter  318.0000  11.200\n",
       "5   Saturn   95.1000   9.410\n",
       "6   Uranus   14.5000   4.060\n",
       "7  Neptune   17.2000   3.880"
      ]
     },
     "metadata": {},
     "output_type": "display_data"
    }
   ],
   "source": [
    "import pandas as pd\n",
    "from IPython.display import display\n",
    "from math import sqrt\n",
    "from scipy.constants import G\n",
    "\n",
    "# Extract data from text file.\n",
    "data = pd.read_csv('data.csv')\n",
    "display(data)\n",
    "\n",
    "# NOTE: The numbers from the data are relative numbers from earth's mass and radius.\n",
    "#       Ex: Jupiter is 318 times mass of earth.\n"
   ]
  },
  {
   "cell_type": "code",
   "execution_count": 17,
   "metadata": {},
   "outputs": [
    {
     "name": "stdout",
     "output_type": "stream",
     "text": [
      "Escape Velocity Mercury: 9546 km/s\n",
      "Escape Velocity Venus: 23164 km/s\n",
      "Escape Velocity Earth: 25009 km/s\n",
      "Escape Velocity Mars: 11216 km/s\n",
      "Escape Velocity Jupiter: 133260 km/s\n",
      "Escape Velocity Saturn: 79505 km/s\n",
      "Escape Velocity Uranus: 47263 km/s\n",
      "Escape Velocity Neptune: 52656 km/s\n"
     ]
    }
   ],
   "source": [
    "def escape_velo(data):\n",
    "    for sample in data.values:\n",
    "        planet = sample[0]\n",
    "        M = sample[1] * 5.9723e24\n",
    "        r = sample[2] * 6378100    # times radius of earth in meters..\n",
    "        result = sqrt(2 * G * M / r)    # meters per second\n",
    "        result_mph = result * 3600 / 1609.344 # in mph\n",
    "        print(f'Escape Velocity {planet}: {round(result_mph)} km/s')\n",
    "\n",
    "escape_velo(data)"
   ]
  }
 ],
 "metadata": {
  "interpreter": {
   "hash": "b3484043eee5ff5607422914000474778a896e23428dfc35313a8be46de07a70"
  },
  "kernelspec": {
   "display_name": "Python 3.8.10 64-bit ('base': conda)",
   "name": "python3"
  },
  "language_info": {
   "codemirror_mode": {
    "name": "ipython",
    "version": 3
   },
   "file_extension": ".py",
   "mimetype": "text/x-python",
   "name": "python",
   "nbconvert_exporter": "python",
   "pygments_lexer": "ipython3",
   "version": "3.8.10"
  },
  "orig_nbformat": 4
 },
 "nbformat": 4,
 "nbformat_minor": 2
}
